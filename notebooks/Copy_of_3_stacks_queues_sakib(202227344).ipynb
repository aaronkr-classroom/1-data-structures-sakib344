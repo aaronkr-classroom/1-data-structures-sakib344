{
  "nbformat": 4,
  "nbformat_minor": 0,
  "metadata": {
    "colab": {
      "provenance": []
    },
    "kernelspec": {
      "name": "python3",
      "display_name": "Python 3"
    },
    "language_info": {
      "name": "python"
    }
  },
  "cells": [
    {
      "cell_type": "markdown",
      "source": [
        "# Stacks with Arrays"
      ],
      "metadata": {
        "id": "-SBAAOpMFw1H"
      }
    },
    {
      "cell_type": "code",
      "execution_count": 2,
      "metadata": {
        "id": "kQHSTqQCGghX"
      },
      "outputs": [],
      "source": [
        "class StackArr:\n",
        "    def __init__(self, size):\n",
        "        self.array_size = size\n",
        "        self.top = -1\n",
        "        self.array = [None] * size\n",
        "\n",
        "    def push(self, value):\n",
        "        # If stack is full, expand the size\n",
        "        if self.top == self.array_size - 1:\n",
        "            self.array_size *= 2\n",
        "            self.array.extend([None] * self.array_size)\n",
        "            print(\"Array expanded to size:\", self.array_size)\n",
        "\n",
        "        self.top += 1\n",
        "        self.array[self.top] = value\n",
        "\n",
        "    def pop(self):\n",
        "        if self.top == -1:\n",
        "            return None  # Stack is empty\n",
        "        value = self.array[self.top]\n",
        "        self.top -= 1\n",
        "        return value\n",
        "\n",
        "    def is_empty(self):\n",
        "        return self.top == -1\n",
        "\n",
        "    def peek(self):\n",
        "        if self.top == -1:\n",
        "            return None\n",
        "        return self.array[self.top]"
      ]
    },
    {
      "cell_type": "markdown",
      "source": [
        "## Reverse String with a Stack"
      ],
      "metadata": {
        "id": "XuIgbabCGANl"
      }
    },
    {
      "cell_type": "code",
      "source": [
        "def reverse_string(input_string): #hello= 5\n",
        "    # practice\n",
        "    stack= StackArr(len(input_string)) # size parameter\n",
        "    for char in input_string:\n",
        "      stack.push(char)\n",
        "\n",
        "    reversed_str=\"\"\n",
        "    while not stack.is_empty():\n",
        "      reversed_str+= stack.pop()\n",
        "\n",
        "    return reversed_str"
      ],
      "metadata": {
        "id": "CcfXkkcMF_RO"
      },
      "execution_count": null,
      "outputs": []
    },
    {
      "cell_type": "code",
      "source": [
        "print(reverse_string(\"Tyson vs. Paul was a money grab!!\"))"
      ],
      "metadata": {
        "id": "drEmTOid14MI",
        "outputId": "6012c6cc-7159-48a6-f0c0-5ffafcdbb770",
        "colab": {
          "base_uri": "https://localhost:8080/"
        }
      },
      "execution_count": null,
      "outputs": [
        {
          "output_type": "stream",
          "name": "stdout",
          "text": [
            "!!barg yenom a saw luaP .sv nosyT\n"
          ]
        }
      ]
    },
    {
      "cell_type": "markdown",
      "source": [
        "## Undo Feature in Text Editor"
      ],
      "metadata": {
        "id": "i3v-h_OvGSQ2"
      }
    },
    {
      "cell_type": "code",
      "source": [
        "def text_editor_simulation(commands):\n",
        "    # practice\n",
        "    text_stack= StackArr(10)\n",
        "    undo_stack= StackArr(10)\n",
        "\n",
        "    for command in commands:\n",
        "      if command.startswith('type '):\n",
        "        char= command.split()[1]\n",
        "        text_stack.push(char)\n",
        "      elif command== 'undo' or command== 'CTRL+Z':\n",
        "        undo_stack.push(text_stack.pop())\n",
        "      elif command== 'redo' or command== 'CTRL+Y':\n",
        "        if not undo_stack.is_empty():\n",
        "          text_stack.push(undo_stack.pop())\n",
        "\n",
        "    #Result string\n",
        "    result=''\n",
        "    while not text_stack.is_empty():\n",
        "      result= text_stack.pop() + result\n",
        "\n",
        "    return result\n"
      ],
      "metadata": {
        "id": "iSc_6rQEGQm_"
      },
      "execution_count": null,
      "outputs": []
    },
    {
      "cell_type": "code",
      "source": [
        "commands= ['type A','type B','type Q','type U','undo A','undo B','undo Q','undo U','redo A','redo B','redo Q','redo U']"
      ],
      "metadata": {
        "id": "HIm63V662nPo"
      },
      "execution_count": 1,
      "outputs": []
    },
    {
      "cell_type": "markdown",
      "source": [
        "# Stacks with Linked Lists"
      ],
      "metadata": {
        "id": "D5A2W5BsF1VF"
      }
    },
    {
      "cell_type": "code",
      "source": [
        "class LinkedListNode:\n",
        "    def __init__(self, value):\n",
        "        self.value = value\n",
        "        self.next = None\n",
        "\n",
        "class StackLL:\n",
        "    def __init__(self):\n",
        "        self.head = None\n",
        "\n",
        "    def push(self, value):\n",
        "        new_node = LinkedListNode(value)\n",
        "        new_node.next = self.head\n",
        "        self.head = new_node\n",
        "\n",
        "    def pop(self):\n",
        "        if self.head is None:\n",
        "            return None  # Stack is empty\n",
        "        value = self.head.value\n",
        "        self.head = self.head.next\n",
        "        return value\n",
        "\n",
        "    def is_empty(self):\n",
        "        return self.head is None\n",
        "\n",
        "    def peek(self):\n",
        "        if self.head is None:\n",
        "            return None\n",
        "        return self.head.value"
      ],
      "metadata": {
        "id": "8FD52-A-FuXr"
      },
      "execution_count": 3,
      "outputs": []
    },
    {
      "cell_type": "markdown",
      "source": [
        "## Check for Balanced Parentheses"
      ],
      "metadata": {
        "id": "SRIuvVphHbnI"
      }
    },
    {
      "cell_type": "code",
      "source": [
        "def is_balanced(expression):\n",
        "    # practice\n",
        "    stack= StackLL()\n",
        "    matching_brackets= {\n",
        "        ')': '(',\n",
        "        '}': '{',\n",
        "        ']': '['\n",
        "    }\n",
        "    for char in expression:\n",
        "      if char in \"({[\":\n",
        "        stack.push(char)\n",
        "      elif char in \")}]\":\n",
        "        top = stack.pop()\n",
        "        if top != matching_brackets[char]: #)\n",
        "          return False\n",
        "\n",
        "    return stack.is_empty()"
      ],
      "metadata": {
        "id": "wnq8TneTF7en"
      },
      "execution_count": 4,
      "outputs": []
    },
    {
      "cell_type": "code",
      "source": [
        "print(is_balanced('(Hello{nice[to(meet)you]})')) #True\n",
        "print(is_balanced('Hello{nice[to(meet)you])'))  #False"
      ],
      "metadata": {
        "id": "GEeGaVe35LlC",
        "outputId": "3ba229f9-b787-44a6-92a0-30966b7179af",
        "colab": {
          "base_uri": "https://localhost:8080/"
        }
      },
      "execution_count": 5,
      "outputs": [
        {
          "output_type": "stream",
          "name": "stdout",
          "text": [
            "True\n",
            "False\n"
          ]
        }
      ]
    },
    {
      "cell_type": "markdown",
      "source": [
        "## Browser Navigation"
      ],
      "metadata": {
        "id": "Qv5QgKWiHkbQ"
      }
    },
    {
      "cell_type": "code",
      "source": [
        "def browser_navigation(urls):\n",
        "    # practice\n",
        "    back_stack = StackLL()\n",
        "    forward_stack = StackLL()\n",
        "    current_page = None\n",
        "\n",
        "    for action in urls:\n",
        "      if action.startswith('visit'):\n",
        "        if current_page:\n",
        "          forward_stack.push(current_page)\n",
        "def browser_navigation(urls):\n",
        "    # practice\n",
        "    back_stack = StackLL()\n",
        "    forward_stack = StackLL()\n",
        "    current_page = None\n",
        "\n",
        "    for action in urls:\n",
        "        if action.startswith('visit'):\n",
        "            if current_page:\n",
        "                forward_stack.push(current_page)\n",
        "            current_page = action.split()[1] #visit google.com\n",
        "            # Clear the forward stack because we visited a new stage\n",
        "            while not forward_stack.is_empty():\n",
        "                forward_stack.pop()\n",
        "        elif action == 'back' and not back_stack.is_empty():\n",
        "            forward_stack.push(current_page)\n",
        "            current_page = back_stack.pop()\n",
        "        elif action == \"forward\" and not forward_stack.is_empty():\n",
        "            back_stack.push(current_page)\n",
        "            current_page = forward_stack.pop()\n",
        "\n",
        "        print('Current page: ', current_page) #auto \\n\n",
        "\n",
        "\n",
        "\n",
        "def browser_navigation(urls):\n",
        "    # practice\n",
        "    back_stack = StackLL()\n",
        "    forward_stack = StackLL()\n",
        "    current_page = None\n",
        "\n",
        "    for action in urls:\n",
        "        if action.startswith('visit'):\n",
        "            if current_page:\n",
        "                forward_stack.push(current_page)\n",
        "            current_page = action.split()[1] #visit google.com\n",
        "            # Clear the forward stack because we visited a new stage\n",
        "            while not forward_stack.is_empty():\n",
        "                forward_stack.pop()\n",
        "        elif action == 'back' and not back_stack.is_empty():\n",
        "            forward_stack.push(current_page)\n",
        "            current_page = back_stack.pop()\n",
        "        elif action == \"forward\" and not forward_stack.is_empty():\n",
        "            back_stack.push(current_page)\n",
        "            current_page = forward_stack.pop()\n",
        "\n",
        "        print('Current page: ', current_page) #auto \\n\n",
        "\n",
        "\n",
        "\n",
        "    print('Current page: ', current_page) #auto \\n\n",
        "\n"
      ],
      "metadata": {
        "id": "WfA_MKK9HfeX"
      },
      "execution_count": 6,
      "outputs": []
    },
    {
      "cell_type": "code",
      "source": [
        "commands = [\n",
        "    \"visit wikipedia.org\",\n",
        "    \"visit youtube.com\",\n",
        "    \"visit amazon.com\",\n",
        "    \"back\",\n",
        "    \"back\",\n",
        "    \"forward\",\n",
        "    \"visit yts.mx\",\n",
        "    \"visit ft.com\",\n",
        "    \"visit coinmarketcap.com\",\n",
        "    \"back\",\n",
        "    \"forward\"\n",
        "]\n",
        "browser_navigation(commands)"
      ],
      "metadata": {
        "id": "dlBbBBZja8VP",
        "colab": {
          "base_uri": "https://localhost:8080/"
        },
        "outputId": "fb449b8e-0f08-49b7-a0bd-4cbddd920814"
      },
      "execution_count": 7,
      "outputs": [
        {
          "output_type": "stream",
          "name": "stdout",
          "text": [
            "Current page:  wikipedia.org\n",
            "Current page:  youtube.com\n",
            "Current page:  amazon.com\n",
            "Current page:  amazon.com\n",
            "Current page:  amazon.com\n",
            "Current page:  amazon.com\n",
            "Current page:  yts.mx\n",
            "Current page:  ft.com\n",
            "Current page:  coinmarketcap.com\n",
            "Current page:  coinmarketcap.com\n",
            "Current page:  coinmarketcap.com\n",
            "Current page:  coinmarketcap.com\n"
          ]
        }
      ]
    },
    {
      "cell_type": "markdown",
      "source": [
        "## Explanation\n",
        "\n",
        "1. **Array-based Stack:**\n",
        "  - Uses a list with dynamic resizing (`self.array.extend()`).\n",
        "  - Offers `push()`, `pop()`, `is_empty()`, and `peek()` methods.\n",
        "2. **Linked List-based Stack:**\n",
        "  - Implements stack using `LinkedListNode` to manage nodes.\n",
        "  - No need to resize, as memory is allocated dynamically.\n",
        "3. **Examples:**\n",
        "  - **Reversing a String:** Uses a stack to reverse characters.\n",
        "  - **Balanced Parentheses:** Checks matching brackets using a stack.\n",
        "  - **Text Editor Undo/Redo:** Manages typing and undo/redo commands.\n",
        "  - **Browser Navigation:** Mimics a web browser back/forward navigation.\n",
        "\n",
        "Feel free to try out and modify these examples!"
      ],
      "metadata": {
        "id": "HoXsbKgKMSxv"
      }
    },
    {
      "cell_type": "markdown",
      "source": [
        "---\n",
        "# Queues"
      ],
      "metadata": {
        "id": "qONjyAfIHurA"
      }
    },
    {
      "cell_type": "code",
      "source": [
        "class LinkedListNode:\n",
        "    def __init__(self, value):\n",
        "        self.value = value\n",
        "        self.next = None\n",
        "\n",
        "class Queue:\n",
        "    def __init__(self):\n",
        "        self.front = None\n",
        "        self.back = None\n",
        "\n",
        "    def enqueue(self, value):\n",
        "        new_node = LinkedListNode(value)\n",
        "        if self.back is None:  # Queue is empty\n",
        "            self.front = new_node\n",
        "            self.back = new_node\n",
        "        else:\n",
        "            self.back.next = new_node\n",
        "            self.back = new_node\n",
        "\n",
        "    def dequeue(self):\n",
        "        if self.front is None:  # Queue is empty\n",
        "            return None\n",
        "        value = self.front.value\n",
        "        self.front = self.front.next\n",
        "        if self.front is None:  # If queue becomes empty\n",
        "            self.back = None\n",
        "        return value\n",
        "\n",
        "    def is_empty(self):\n",
        "        return self.front is None\n",
        "\n",
        "    def peek(self):\n",
        "        if self.front is None:\n",
        "            return None\n",
        "        return self.front.value"
      ],
      "metadata": {
        "id": "V-olBGhzHnKX"
      },
      "execution_count": 8,
      "outputs": []
    },
    {
      "cell_type": "markdown",
      "source": [
        "## Simulate a Ticket Counter"
      ],
      "metadata": {
        "id": "MzjUFq4iH0fP"
      }
    },
    {
      "cell_type": "code",
      "source": [
        "from collections import deque\n",
        "\n",
        "class Queue:\n",
        "    def __init__(self):\n",
        "        self.queue = deque()\n",
        "\n",
        "    def enqueue(self, item):\n",
        "        self.queue.append(item)\n",
        "\n",
        "    def dequeue(self):\n",
        "        if not self.is_empty():\n",
        "            return self.queue.popleft()\n",
        "        else:\n",
        "            return None\n",
        "\n",
        "    def is_empty(self):\n",
        "        return len(self.queue) == 0\n",
        "\n",
        "def simulate_ticket_counter(customers):\n",
        "    # practice\n",
        "    q= Queue()\n",
        "    for customer in customers:\n",
        "      q.enqueue(customer)\n",
        "\n",
        "    print('serving all customers:')\n",
        "    while not q.is_empty():\n",
        "      print('serving: ', q.dequeue())\n",
        "\n",
        "\n",
        "\n",
        "    q= Queue()\n",
        "    for customer in customers:\n",
        "      q.enqueue(customer)\n",
        "\n",
        "    print('serving all customers:')\n",
        "    while not q.is_empty():\n",
        "      print('serving: ', q.dequeue())\n"
      ],
      "metadata": {
        "id": "sIE5spn3HyuV"
      },
      "execution_count": 9,
      "outputs": []
    },
    {
      "cell_type": "code",
      "source": [
        "simulate_ticket_counter([\n",
        "    'Aaron','sakib','hasan','henry','vegus'\n",
        "])"
      ],
      "metadata": {
        "id": "Q3LM_7ao-Ysm",
        "outputId": "676d5b9a-8206-4983-e22e-ccd05576f359",
        "colab": {
          "base_uri": "https://localhost:8080/"
        }
      },
      "execution_count": 11,
      "outputs": [
        {
          "output_type": "stream",
          "name": "stdout",
          "text": [
            "serving all customers:\n",
            "serving:  Aaron\n",
            "serving:  sakib\n",
            "serving:  hasan\n",
            "serving:  henry\n",
            "serving:  vegus\n",
            "serving all customers:\n",
            "serving:  Aaron\n",
            "serving:  sakib\n",
            "serving:  hasan\n",
            "serving:  henry\n",
            "serving:  vegus\n"
          ]
        }
      ]
    },
    {
      "cell_type": "markdown",
      "source": [
        "## Hot Potato Game (Circle Elimination)"
      ],
      "metadata": {
        "id": "CJD5Gq4KH5jR"
      }
    },
    {
      "cell_type": "code",
      "source": [
        "def hot_potato(players, rounds):\n",
        "    #practice"
      ],
      "metadata": {
        "id": "jGwYMtt8H3Hi"
      },
      "execution_count": null,
      "outputs": []
    },
    {
      "cell_type": "markdown",
      "source": [
        "## Printer Job Queue Sim"
      ],
      "metadata": {
        "id": "MoyXEhZDIArA"
      }
    },
    {
      "cell_type": "code",
      "source": [
        "def printer_job_queue(jobs):\n",
        "    # practice"
      ],
      "metadata": {
        "id": "RIwxVS7FH95T"
      },
      "execution_count": null,
      "outputs": []
    },
    {
      "cell_type": "markdown",
      "source": [
        "## Customer Service Help Desk"
      ],
      "metadata": {
        "id": "zALlREviIGQ5"
      }
    },
    {
      "cell_type": "code",
      "source": [
        "class HelpDesk:\n",
        "    # practice"
      ],
      "metadata": {
        "id": "TOsozUSQIDSc"
      },
      "execution_count": null,
      "outputs": []
    },
    {
      "cell_type": "markdown",
      "source": [
        "## Call Center"
      ],
      "metadata": {
        "id": "CX7KOfKNIK3x"
      }
    },
    {
      "cell_type": "code",
      "source": [
        "import random\n",
        "import time\n",
        "\n",
        "def call_center_simulation(calls):\n",
        "    # practice"
      ],
      "metadata": {
        "id": "bYNgfJ6LIIXP"
      },
      "execution_count": null,
      "outputs": []
    },
    {
      "cell_type": "markdown",
      "source": [
        "## Explanation\n",
        "\n",
        "1. **Queue Implementation:**\n",
        "  - Uses a linked list with front pointing to the first element and back pointing to the last.\n",
        "  - `enqueue()`: Adds a new element to the back of the queue.\n",
        "  - `dequeue()`: Removes and returns the element from the front.\n",
        "  - `is_empty()`: Checks if the queue is empty.\n",
        "  - `peek()`: Returns the front element without removing it.\n",
        "2. **Examples:**\n",
        "  - **Ticket Counter:** Serves customers in the order they arrive.\n",
        "  - **Hot Potato Game:** Eliminates players in a circular manner until one remains.\n",
        "  - **Printer Job Queue:** Simulates jobs being processed in the order they are added.\n",
        "  - **Help Desk Queue:** Handles customer service requests.\n",
        "  - **Call Center:** Simulates a call center handling incoming calls.\n",
        "\n",
        "These scenarios illustrate real-world applications of queues, showing how they manage tasks in a \"first-in, first-out\" (FIFO) manner."
      ],
      "metadata": {
        "id": "hFuEqrpqMqSe"
      }
    },
    {
      "cell_type": "code",
      "source": [],
      "metadata": {
        "id": "CYlqlWKgIMtj"
      },
      "execution_count": null,
      "outputs": []
    }
  ]
}