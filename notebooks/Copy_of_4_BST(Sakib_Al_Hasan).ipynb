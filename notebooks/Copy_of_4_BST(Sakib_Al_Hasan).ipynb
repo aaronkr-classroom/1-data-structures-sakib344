{
  "nbformat": 4,
  "nbformat_minor": 0,
  "metadata": {
    "colab": {
      "provenance": []
    },
    "kernelspec": {
      "name": "python3",
      "display_name": "Python 3"
    },
    "language_info": {
      "name": "python"
    }
  },
  "cells": [
    {
      "cell_type": "markdown",
      "source": [
        "# Binary Search Trees (BST)"
      ],
      "metadata": {
        "id": "d4USoBYZIbMc"
      }
    },
    {
      "cell_type": "code",
      "execution_count": 8,
      "metadata": {
        "id": "b6Xnq4-nIVMA"
      },
      "outputs": [],
      "source": [
        "class TreeNode:\n",
        "    def __init__(self, value):\n",
        "        self.value = value\n",
        "        self.left = None\n",
        "        self.right = None\n",
        "        self.parent = None\n",
        "\n",
        "class BinarySearchTree:\n",
        "    def __init__(self):\n",
        "        self.root = None\n",
        "\n",
        "    def find_value(self, current, target):\n",
        "        if current is None:\n",
        "            return None\n",
        "        if current.value == target:\n",
        "            return current\n",
        "        if target < current.value:\n",
        "            return self.find_value(current.left, target)\n",
        "        else:\n",
        "            return self.find_value(current.right, target)\n",
        "\n",
        "    def find_value_itr(self, root, target):\n",
        "        current = root\n",
        "        while current is not None and current.value != target:\n",
        "            if target < current.value:\n",
        "                current = current.left\n",
        "            else:\n",
        "                current = current.right\n",
        "        return current\n",
        "\n",
        "    def find_tree_node(self, target):\n",
        "        if self.root is None:\n",
        "            return None\n",
        "        return self.find_value(self.root, target)\n",
        "\n",
        "    def insert_tree_node(self, new_value):\n",
        "        if self.root is None:\n",
        "            self.root = TreeNode(new_value)\n",
        "        else:\n",
        "            self.insert_node(self.root, new_value)\n",
        "\n",
        "    def insert_node(self, current, new_value):\n",
        "        if new_value == current.value:\n",
        "            return  # Skip inserting duplicates\n",
        "        if new_value < current.value:\n",
        "            if current.left is not None:\n",
        "                self.insert_node(current.left, new_value)\n",
        "            else:\n",
        "                current.left = TreeNode(new_value)\n",
        "                current.left.parent = current\n",
        "        else:\n",
        "            if current.right is not None:\n",
        "                self.insert_node(current.right, new_value)\n",
        "            else:\n",
        "                current.right = TreeNode(new_value)\n",
        "                current.right.parent = current\n",
        "\n",
        "    def remove_tree_node(self, node):\n",
        "        if node is None:\n",
        "          return\n",
        "\n",
        "        # Case A: Leaf Node\n",
        "        if node.left is None and node.right is None:\n",
        "          if node.parent is None: # it's the root!\n",
        "            self.root = None\n",
        "          elif node.parent.left == node:\n",
        "            node.parent.left = None\n",
        "          else:\n",
        "            node.parent.right = None\n",
        "\n",
        "        # Case B: One Child\n",
        "        elif node.left is None or node.right is None:\n",
        "          # Condition ? True : False\n",
        "          child = node.left if node.left is not None else node.right\n",
        "          child.parent = node.parent\n",
        "          if node.parent is None: # it's the root!\n",
        "            self.root = child\n",
        "          elif node.parent.left == node:\n",
        "            node.parent.left = child\n",
        "          else:\n",
        "            node.parent.right = child\n",
        "\n",
        "        # Case C: Two children\n",
        "        else:\n",
        "          successor = self.get_min_value_node(node.right)\n",
        "          self.remove_tree_node(successor)\n",
        "          successor.parent = node.parent\n",
        "\n",
        "          if node.parent is None: # it's the root!\n",
        "            self.root = successor\n",
        "          elif node.parent.left == node:\n",
        "            node.parent.left = successor\n",
        "          else:\n",
        "            node.parent.right = successor\n",
        "\n",
        "          successor.left = node.left\n",
        "          successor.right = node.right\n",
        "\n",
        "          if node.left is not None:\n",
        "            node.left.parent = successor\n",
        "          if node.right is not None:\n",
        "            node.right.parent = successor\n",
        "\n",
        "\n",
        "    def get_min_value_node(self, node, max = False, debug = False):\n",
        "        if debug:\n",
        "          print(\"Debugging!\")\n",
        "        current = node\n",
        "        if max:\n",
        "          while current.right is not None:\n",
        "              current = current.right\n",
        "        else:\n",
        "          while current.left is not None:\n",
        "              current = current.left\n",
        "        return current\n",
        "\n",
        "    def remove_value(self, target):\n",
        "        node = self.find_tree_node(target)\n",
        "        self.remove_tree_node(node)\n",
        "\n",
        "    def print_tree(self):\n",
        "        levels = []\n",
        "        self._print_tree_helper(self.root, 0, levels)\n",
        "        for depth, nodes in enumerate(levels):\n",
        "          print(f\"Level {depth}: \" + \" \".join(map(str, nodes)) + \"\\n\")\n",
        "\n",
        "    def _print_tree_helper(self, node, depth, levels):\n",
        "        if node is None:\n",
        "          return\n",
        "        if (len(levels) == depth):\n",
        "          levels.append([])\n",
        "        levels[depth].append(node.value)\n",
        "        self._print_tree_helper(node.left, depth + 1, levels)\n",
        "        self._print_tree_helper(node.right, depth + 1, levels)"
      ]
    },
    {
      "cell_type": "markdown",
      "source": [
        "## Inserting and Printing Tree"
      ],
      "metadata": {
        "id": "GdGqa1nuIiYa"
      }
    },
    {
      "cell_type": "code",
      "source": [
        "bst = BinarySearchTree()\n",
        "bst.insert_tree_node(50) #root: 50\n",
        "bst.insert_tree_node(30) #Left : 30\n",
        "bst.insert_tree_node(70) #right : 70\n",
        "bst.insert_tree_node(20)\n",
        "bst.insert_tree_node(40)\n",
        "bst.insert_tree_node(60)\n",
        "bst.insert_tree_node(30)\n",
        "bst.insert_tree_node(70)\n",
        "bst.insert_tree_node(100)\n",
        "bst.insert_tree_node(0)"
      ],
      "metadata": {
        "id": "mv5hGdyxxhsv"
      },
      "execution_count": 9,
      "outputs": []
    },
    {
      "cell_type": "code",
      "source": [
        "print(\"BST after insert:\")\n",
        "bst.print_tree()"
      ],
      "metadata": {
        "colab": {
          "base_uri": "https://localhost:8080/"
        },
        "id": "QiOuJDiCyMcN",
        "outputId": "0fb560a4-7476-43ee-dc0a-22808d626986"
      },
      "execution_count": 10,
      "outputs": [
        {
          "output_type": "stream",
          "name": "stdout",
          "text": [
            "BST after insert:\n",
            "Level 0: 50\n",
            "\n",
            "Level 1: 30 70\n",
            "\n",
            "Level 2: 20 40 60 100\n",
            "\n",
            "Level 3: 0\n",
            "\n"
          ]
        }
      ]
    },
    {
      "cell_type": "markdown",
      "source": [
        "## Searching for Values"
      ],
      "metadata": {
        "id": "BsRYD_sZIoRB"
      }
    },
    {
      "cell_type": "code",
      "source": [
        "print(\"Finding 20:\",  bst.find_tree_node(20))\n",
        "print(\"Finding 1200:\",  bst.find_tree_node(1200))\n",
        "print(\"Finding 0:\",  bst.find_tree_node(0))"
      ],
      "metadata": {
        "colab": {
          "base_uri": "https://localhost:8080/"
        },
        "id": "Ad37ioeb1XYQ",
        "outputId": "7649ea7e-1e37-482e-e89e-5f6729d8d5d9"
      },
      "execution_count": 11,
      "outputs": [
        {
          "output_type": "stream",
          "name": "stdout",
          "text": [
            "Finding 20: <__main__.TreeNode object at 0x7b6aae341d80>\n",
            "Finding 1200: None\n",
            "Finding 0: <__main__.TreeNode object at 0x7b6aae298b50>\n"
          ]
        }
      ]
    },
    {
      "cell_type": "markdown",
      "source": [
        "## Removing Nodes"
      ],
      "metadata": {
        "id": "4gfBL-_IIth5"
      }
    },
    {
      "cell_type": "code",
      "source": [
        "bst.remove_value(0) #remove leaf\n",
        "print(\"Tree after removing 0:\")\n",
        "bst.print_tree()\n",
        "\n",
        "bst.remove_value(100) #remove node with one child\n",
        "print(\"Tree after removing 100:\")\n",
        "bst.print_tree()\n",
        "\n",
        "bst.remove_value(50) #remove root node\n",
        "print(\"Tree after removing 30:\")\n",
        "bst.print_tree()"
      ],
      "metadata": {
        "colab": {
          "base_uri": "https://localhost:8080/"
        },
        "id": "Zhbv9aK_16hv",
        "outputId": "dbd5e20e-62ab-4215-e41a-4926266773d2"
      },
      "execution_count": 12,
      "outputs": [
        {
          "output_type": "stream",
          "name": "stdout",
          "text": [
            "Tree after removing 0:\n",
            "Level 0: 50\n",
            "\n",
            "Level 1: 30 70\n",
            "\n",
            "Level 2: 20 40 60 100\n",
            "\n",
            "Tree after removing 100:\n",
            "Level 0: 50\n",
            "\n",
            "Level 1: 30 70\n",
            "\n",
            "Level 2: 20 40 60\n",
            "\n",
            "Tree after removing 30:\n",
            "Level 0: 60\n",
            "\n",
            "Level 1: 30 70\n",
            "\n",
            "Level 2: 20 40\n",
            "\n"
          ]
        }
      ]
    },
    {
      "cell_type": "markdown",
      "source": [
        "## Min / Max Value Search"
      ],
      "metadata": {
        "id": "P3HGaLrwIxWq"
      }
    },
    {
      "cell_type": "code",
      "source": [
        "min_node = bst.get_min_value_node(bst.root)\n",
        "print(\"Min value in Tree:\", min_node.value)\n",
        "\n",
        "max_node = bst.get_min_value_node(bst.root, 1, 1)\n",
        "print(\"Max value in Tree:\", max_node.value)"
      ],
      "metadata": {
        "colab": {
          "base_uri": "https://localhost:8080/"
        },
        "id": "_fcy1niM9YGc",
        "outputId": "3722c565-3e29-4c25-ecc1-5ad1a30b1a50"
      },
      "execution_count": 13,
      "outputs": [
        {
          "output_type": "stream",
          "name": "stdout",
          "text": [
            "Min value in Tree: 20\n",
            "Debugging!\n",
            "Max value in Tree: 70\n"
          ]
        }
      ]
    },
    {
      "cell_type": "markdown",
      "source": [
        "## Explanation\n",
        "\n",
        "1. InsertNode:\n",
        "  - Adds a new node with a given value to the tree.\n",
        "  - Checks if the current node should go left or right and recursively finds the position.\n",
        "  - Sets parent pointer for maintaining references.\n",
        "2. RemoveTreeNode:\n",
        "  - Handles three cases:\n",
        "    - Leaf Node: Simply deletes the node.\n",
        "    - One Child: Promotes the child node.\n",
        "    - Two Children: Finds the successor (smallest value in the right subtree), splices it, and replaces the node to be deleted.\n",
        "3. PrintTree:\n",
        "  - Uses breadth-first traversal to display the tree structure by levels.\n",
        "\n",
        "These examples and explanations illustrate the common operations in a binary search tree and provide insights into tree manipulation, making it easier to visualize how insertions and deletions work."
      ],
      "metadata": {
        "id": "XhhSBexTM7tu"
      }
    },
    {
      "cell_type": "code",
      "source": [],
      "metadata": {
        "id": "9hvq3ROYI0dD"
      },
      "execution_count": null,
      "outputs": []
    }
  ]
}